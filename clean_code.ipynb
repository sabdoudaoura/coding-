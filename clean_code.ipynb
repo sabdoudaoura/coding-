{
 "cells": [
  {
   "cell_type": "code",
   "execution_count": 3,
   "metadata": {},
   "outputs": [
    {
     "data": {
      "text/plain": [
       "True"
      ]
     },
     "execution_count": 3,
     "metadata": {},
     "output_type": "execute_result"
    }
   ],
   "source": [
    "from typing import List, Union\n",
    "\n",
    "def are_int_equal(nub1: int, nub2:int) -> bool : \n",
    "    \"\"\"_summary_\n",
    "\n",
    "    Args:\n",
    "        nub1 (int): _description_\n",
    "        nub2 (int): _description_\n",
    "\n",
    "    Returns:\n",
    "        bool: _description_\n",
    "    \"\"\"\n",
    "\n",
    "    return nub1==nub2\n",
    "\n",
    "are_equal(5,5)"
   ]
  },
  {
   "cell_type": "code",
   "execution_count": 7,
   "metadata": {},
   "outputs": [
    {
     "data": {
      "text/plain": [
       "True"
      ]
     },
     "execution_count": 7,
     "metadata": {},
     "output_type": "execute_result"
    }
   ],
   "source": [
    "from typing import Union\n",
    "def are_number_equal(numb1 : Union[int, float], numb2 : Union[int, float]) -> bool:\n",
    "    \"\"\"_summary_\n",
    "\n",
    "    Args:\n",
    "        numb1 (Union[int, float]): _description_\n",
    "        numb2 (Union[int, float]): _description_\n",
    "\n",
    "    Returns:\n",
    "        bool: _description_\n",
    "    \"\"\"\n",
    "\n",
    "    return numb1==numb2\n",
    "are_number_equal(5.89,5.89)"
   ]
  },
  {
   "cell_type": "code",
   "execution_count": null,
   "metadata": {},
   "outputs": [],
   "source": [
    "List[Union[int, float]]"
   ]
  },
  {
   "cell_type": "markdown",
   "metadata": {},
   "source": [
    "**Exercice 1 :**\n",
    "\n",
    "Check to see if a string has the same amount of 'x's and 'o's. The method must return a boolean and be case insensitive. The string can contain any char.\n",
    "\n",
    "Examples input/output:\n",
    "\n",
    "XO(\"ooxx\") => true\n"
   ]
  },
  {
   "cell_type": "code",
   "execution_count": null,
   "metadata": {},
   "outputs": [
    {
     "data": {
      "text/plain": [
       "True"
      ]
     },
     "execution_count": 2,
     "metadata": {},
     "output_type": "execute_result"
    }
   ],
   "source": [
    "def oz(s :str) -> bool:\n",
    "    s=s.lower()\n",
    "    return s.count('o')==s.count('z')\n",
    "\n",
    "# discovered s.count('')"
   ]
  },
  {
   "cell_type": "markdown",
   "metadata": {},
   "source": [
    "**Exercice 2**:\n",
    "\n",
    "A Narcissistic Number (or Armstrong Number) is a positive number which is the sum of its own digits, each raised to the power of the number of digits in a given base. In this Kata, we will restrict ourselves to decimal (base 10)."
   ]
  },
  {
   "cell_type": "code",
   "execution_count": 10,
   "metadata": {},
   "outputs": [
    {
     "data": {
      "text/plain": [
       "(False, True)"
      ]
     },
     "execution_count": 10,
     "metadata": {},
     "output_type": "execute_result"
    }
   ],
   "source": [
    "def narcissistic( value : int) -> bool : \n",
    "    \n",
    "    value_str = str(value)\n",
    "    sum=0\n",
    "    for i,digit in enumerate(value_str):\n",
    "        sum+=int(digit)**(len(value_str))\n",
    "        \n",
    "    return sum==value\n",
    "narcissistic(123), narcissistic(7)"
   ]
  },
  {
   "cell_type": "code",
   "execution_count": null,
   "metadata": {},
   "outputs": [
    {
     "data": {
      "text/plain": [
       "True"
      ]
     },
     "execution_count": 13,
     "metadata": {},
     "output_type": "execute_result"
    }
   ],
   "source": [
    "def narcissistic(value:int)->bool:\n",
    "    return value== sum(int(x)**len(str(value)) for x in str(value)) \n",
    "narcissistic(123), narcissistic(7)\n",
    "\n",
    "#Discovered sum( iterative loop inside)"
   ]
  },
  {
   "cell_type": "code",
   "execution_count": null,
   "metadata": {},
   "outputs": [],
   "source": []
  }
 ],
 "metadata": {
  "kernelspec": {
   "display_name": "Python 3",
   "language": "python",
   "name": "python3"
  },
  "language_info": {
   "codemirror_mode": {
    "name": "ipython",
    "version": 3
   },
   "file_extension": ".py",
   "mimetype": "text/x-python",
   "name": "python",
   "nbconvert_exporter": "python",
   "pygments_lexer": "ipython3",
   "version": "3.11.5"
  }
 },
 "nbformat": 4,
 "nbformat_minor": 2
}
